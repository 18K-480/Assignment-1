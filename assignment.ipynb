{
  "nbformat": 4,
  "nbformat_minor": 0,
  "metadata": {
    "colab": {
      "name": "assignment",
      "provenance": [],
      "collapsed_sections": [],
      "authorship_tag": "ABX9TyPJqHoabd7vyAFqffHGoZyP",
      "include_colab_link": true
    },
    "kernelspec": {
      "name": "python3",
      "display_name": "Python 3"
    }
  },
  "cells": [
    {
      "cell_type": "markdown",
      "metadata": {
        "id": "view-in-github",
        "colab_type": "text"
      },
      "source": [
        "<a href=\"https://colab.research.google.com/github/18K-480/assignment-1/blob/master/assignment.ipynb\" target=\"_parent\"><img src=\"https://colab.research.google.com/assets/colab-badge.svg\" alt=\"Open In Colab\"/></a>"
      ]
    },
    {
      "cell_type": "code",
      "metadata": {
        "id": "6sW5N-nHbCD0",
        "colab_type": "code",
        "colab": {}
      },
      "source": [
        "#problem:1\n",
        "yr=int(input(\"enter year \"))\n",
        "d={0:\"monkey\",1:\"rooster\",2:\"dog\",3:\"pig\",4:\"rat\",5:\"ox\",6:\"tiger\",7:\"rabbit\",8:\"dragon\",9:\"snake\",10:\"horse\"}\n",
        "x=yr%12\n",
        "if x in d:\n",
        "  print(d[x])\n",
        "else:\n",
        "    print(\"sheep\")"
      ],
      "execution_count": null,
      "outputs": []
    },
    {
      "cell_type": "code",
      "metadata": {
        "id": "T7dPg4hgc-QC",
        "colab_type": "code",
        "colab": {}
      },
      "source": [
        "#problem:2\n",
        "dis=int(input(\"enter distance \"))\n",
        "w=int(input(\"enter weight \"))\n",
        "if dis>=500:\n",
        "    if w>=100:\n",
        "        cost=7*dis\n",
        "    elif w>=10 and w<100:\n",
        "        cost=6*dis\n",
        "    else:\n",
        "        cost=5*dis\n",
        "else:\n",
        "    if w>=100:\n",
        "        cost=8*dis\n",
        "    else:\n",
        "        cost=5*dis\n",
        "print(\"goods charge \",cost)"
      ],
      "execution_count": null,
      "outputs": []
    },
    {
      "cell_type": "code",
      "metadata": {
        "id": "iBjW0B9DdNbf",
        "colab_type": "code",
        "colab": {}
      },
      "source": [
        "#problem:3\n",
        "seat=input(\"enter type of seat \")\n",
        "mode=input(\"enter payment mode \")\n",
        "if seat=='circle':\n",
        "    if mode=='cash':\n",
        "        cost=750-((10/100)*750)\n",
        "        print(cost)\n",
        "    else:\n",
        "        cost=750-((5/100)*750)\n",
        "        print(cost)\n",
        "elif seat=='stall':\n",
        "    if mode=='cash':\n",
        "        cost=625-((10/100)*625)\n",
        "        print(cost)\n",
        "    else:\n",
        "        cost=625-((5/100)*625)\n",
        "        print(cost)\n",
        "if seat=='upperclass':\n",
        "    if mode=='cash':\n",
        "        cost=850-((10/100)*850)\n",
        "        print(cost)\n",
        "    else:\n",
        "        cost=850-((5/100)*850)\n",
        "        print(cost)\n",
        "else:\n",
        "    if mode=='cash':\n",
        "        cost=1000-((10/100)*1000)\n",
        "        print(cost)\n",
        "    else:\n",
        "        cost=1000-((5/100)*1000)\n",
        "        print(cost)"
      ],
      "execution_count": null,
      "outputs": []
    },
    {
      "cell_type": "code",
      "metadata": {
        "id": "QlwE8Yj-d0Ux",
        "colab_type": "code",
        "colab": {}
      },
      "source": [
        "#problrm:4\n",
        "m=float(input(\"weight of water\"))\n",
        "t1=int(input(\"initial temperature \"))\n",
        "t2=int(input(\"final temperature \"))\n",
        "q=m*(t2-t1)*4184\n",
        "print(q,\"J\")"
      ],
      "execution_count": null,
      "outputs": []
    },
    {
      "cell_type": "code",
      "metadata": {
        "id": "9agXqhqad_zO",
        "colab_type": "code",
        "colab": {}
      },
      "source": [
        "#problem:5\n",
        "month=input(\"enter month \")\n",
        "if month=='december' or month=='january' or month=='february':\n",
        "    print(\"Winter\")\n",
        "if month=='march' or month=='april' or month=='may':\n",
        "    print(\"Spring\")\n",
        "if month=='june' or month=='july' or month=='august':\n",
        "    print(\"Summer\")\n",
        "if month=='september' or month=='october' or month=='november':\n",
        "    print(\"Autum\")"
      ],
      "execution_count": null,
      "outputs": []
    },
    {
      "cell_type": "code",
      "metadata": {
        "id": "ylyecGlKeXhW",
        "colab_type": "code",
        "colab": {}
      },
      "source": [
        "#problem:6\n",
        "h=int(input(\"enter height \"))\n",
        "w=int(input(\"enter weight \"))\n",
        "bmi=(w*0.4535)/(h*0.0254)**2\n",
        "if bmi<18.5:\n",
        "    print(\"underweight\")\n",
        "elif bmi>=18.5 or bmi<25.0:\n",
        "    print(\"normal\")\n",
        "elif bmi>=25.0 or bmi<30.0:\n",
        "    print(\"overweight\")\n",
        "else:\n",
        "    print(\"obese\")"
      ],
      "execution_count": null,
      "outputs": []
    },
    {
      "cell_type": "code",
      "metadata": {
        "id": "a18K5IDKediC",
        "colab_type": "code",
        "colab": {}
      },
      "source": [
        "#problem:7\n",
        "i=int(input(\"enter value between 100 and 1000 \"))\n",
        "sum=0\n",
        "rem=0\n",
        "while i>0:\n",
        "    rem=i%10\n",
        "    sum=sum+rem\n",
        "    i=i//10\n",
        "print(sum)"
      ],
      "execution_count": null,
      "outputs": []
    },
    {
      "cell_type": "code",
      "metadata": {
        "id": "jbPDqU3se2Fj",
        "colab_type": "code",
        "colab": {}
      },
      "source": [
        "#problem 8\n",
        "for i in range(1,1000):\n",
        "    num=i\n",
        "    rem=0\n",
        "    sum=0\n",
        "    while i>0:\n",
        "        rem=i%10\n",
        "        sum=sum*10+rem\n",
        "        i=i//10\n",
        "    if sum==num:\n",
        "        print(num)"
      ],
      "execution_count": null,
      "outputs": []
    },
    {
      "cell_type": "code",
      "metadata": {
        "id": "wHFEcnY6e5Yy",
        "colab_type": "code",
        "colab": {}
      },
      "source": [
        "#problem 9\n",
        "for i in range(1,1000):\n",
        "    num=i\n",
        "    rem=0\n",
        "    sum=0\n",
        "    while i>0:\n",
        "        rem=i%10\n",
        "        sum=sum+rem**3\n",
        "        i=i//10\n",
        "    if sum==num:\n",
        "        print(num)"
      ],
      "execution_count": null,
      "outputs": []
    },
    {
      "cell_type": "code",
      "metadata": {
        "id": "URl_ZGAzfBnj",
        "colab_type": "code",
        "colab": {}
      },
      "source": [
        "#problem:10\n",
        "for i in range(1,100):\n",
        "    if i%3==0 and i%5==0:\n",
        "        print(\"fizz buzz\")\n",
        "    elif i%3==0:\n",
        "        print(\"Fizz\")\n",
        "    elif i%5==0:\n",
        "        print(\"Buzz\")\n",
        "    else:\n",
        "        print(i)"
      ],
      "execution_count": null,
      "outputs": []
    },
    {
      "cell_type": "code",
      "metadata": {
        "id": "9vzqjsU5fLrm",
        "colab_type": "code",
        "colab": {}
      },
      "source": [
        "#problem:11\n",
        "h=int(input(\"height \"))\n",
        "u=int(input(\"climb \"))\n",
        "d=int(input(\"down \"))\n",
        "x=0\n",
        "count=0\n",
        "while x<=(h-u):\n",
        "    x=x+(u-d)\n",
        "    count+=1\n",
        "print(count+1)"
      ],
      "execution_count": null,
      "outputs": []
    }
  ]
}